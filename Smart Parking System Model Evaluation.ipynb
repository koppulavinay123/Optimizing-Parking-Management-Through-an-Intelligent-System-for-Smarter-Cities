{
 "cells": [
  {
   "cell_type": "markdown",
   "id": "60888968-3022-4478-89e2-6e8e36af3b6e",
   "metadata": {},
   "source": [
    "### Data preprocessing and balancing\n",
    "\n",
    "1.Data Preprocessing\n",
    "\n",
    "2. Imputation of Missing Value\n",
    "\n",
    "3.- Feature Engineeri\n",
    "\n",
    "4. - Addressing Imbalanced Data and Resampling Techniques"
   ]
  },
  {
   "cell_type": "code",
   "execution_count": 10,
   "id": "baeb203f-2c7f-4cc0-a986-e36fbf850bf5",
   "metadata": {},
   "outputs": [],
   "source": [
    "import pandas as pd"
   ]
  },
  {
   "cell_type": "code",
   "execution_count": 11,
   "id": "92d52700-4c48-4775-b9fc-84b99aba3507",
   "metadata": {},
   "outputs": [],
   "source": [
    "parking_data=pd.read_csv(\"parking_dataset.csv\")"
   ]
  },
  {
   "cell_type": "code",
   "execution_count": 12,
   "id": "8edf9833-e858-4afd-be77-039dfef87b4c",
   "metadata": {},
   "outputs": [
    {
     "data": {
      "text/html": [
       "<div>\n",
       "<style scoped>\n",
       "    .dataframe tbody tr th:only-of-type {\n",
       "        vertical-align: middle;\n",
       "    }\n",
       "\n",
       "    .dataframe tbody tr th {\n",
       "        vertical-align: top;\n",
       "    }\n",
       "\n",
       "    .dataframe thead th {\n",
       "        text-align: right;\n",
       "    }\n",
       "</style>\n",
       "<table border=\"1\" class=\"dataframe\">\n",
       "  <thead>\n",
       "    <tr style=\"text-align: right;\">\n",
       "      <th></th>\n",
       "      <th>Timestamp</th>\n",
       "      <th>ParkingSpaceID</th>\n",
       "      <th>OccupancyStatus</th>\n",
       "      <th>VehicleType</th>\n",
       "    </tr>\n",
       "  </thead>\n",
       "  <tbody>\n",
       "    <tr>\n",
       "      <th>0</th>\n",
       "      <td>01-01-2023</td>\n",
       "      <td>80.0</td>\n",
       "      <td>Empty</td>\n",
       "      <td>Motorcycle</td>\n",
       "    </tr>\n",
       "    <tr>\n",
       "      <th>1</th>\n",
       "      <td>02-01-2023</td>\n",
       "      <td>85.0</td>\n",
       "      <td>Empty</td>\n",
       "      <td>Car</td>\n",
       "    </tr>\n",
       "    <tr>\n",
       "      <th>2</th>\n",
       "      <td>03-01-2023</td>\n",
       "      <td>92.0</td>\n",
       "      <td>Reserved</td>\n",
       "      <td>Motorcycle</td>\n",
       "    </tr>\n",
       "    <tr>\n",
       "      <th>3</th>\n",
       "      <td>04-01-2023</td>\n",
       "      <td>72.0</td>\n",
       "      <td>Occupied</td>\n",
       "      <td>Car</td>\n",
       "    </tr>\n",
       "    <tr>\n",
       "      <th>4</th>\n",
       "      <td>05-01-2023</td>\n",
       "      <td>29.0</td>\n",
       "      <td>Occupied</td>\n",
       "      <td>Bicycle</td>\n",
       "    </tr>\n",
       "  </tbody>\n",
       "</table>\n",
       "</div>"
      ],
      "text/plain": [
       "    Timestamp  ParkingSpaceID OccupancyStatus VehicleType\n",
       "0  01-01-2023            80.0           Empty  Motorcycle\n",
       "1  02-01-2023            85.0           Empty         Car\n",
       "2  03-01-2023            92.0        Reserved  Motorcycle\n",
       "3  04-01-2023            72.0        Occupied         Car\n",
       "4  05-01-2023            29.0        Occupied     Bicycle"
      ]
     },
     "execution_count": 12,
     "metadata": {},
     "output_type": "execute_result"
    }
   ],
   "source": [
    "parking_data.head()"
   ]
  },
  {
   "cell_type": "code",
   "execution_count": 13,
   "id": "1f2df45a-f43f-49a8-8bd6-dcb41728d5ee",
   "metadata": {},
   "outputs": [
    {
     "name": "stdout",
     "output_type": "stream",
     "text": [
      "<class 'pandas.core.frame.DataFrame'>\n",
      "RangeIndex: 365 entries, 0 to 364\n",
      "Data columns (total 4 columns):\n",
      " #   Column           Non-Null Count  Dtype  \n",
      "---  ------           --------------  -----  \n",
      " 0   Timestamp        365 non-null    object \n",
      " 1   ParkingSpaceID   364 non-null    float64\n",
      " 2   OccupancyStatus  364 non-null    object \n",
      " 3   VehicleType      363 non-null    object \n",
      "dtypes: float64(1), object(3)\n",
      "memory usage: 11.5+ KB\n"
     ]
    }
   ],
   "source": [
    "parking_data.info()"
   ]
  },
  {
   "cell_type": "code",
   "execution_count": 14,
   "id": "9e35bd93-799c-4d07-8f46-2ae47b7183ef",
   "metadata": {},
   "outputs": [
    {
     "name": "stdout",
     "output_type": "stream",
     "text": [
      "Missing Values:\n",
      "Timestamp          0\n",
      "ParkingSpaceID     1\n",
      "OccupancyStatus    1\n",
      "VehicleType        2\n",
      "dtype: int64\n"
     ]
    }
   ],
   "source": [
    "missing_values = parking_data.isnull().sum()\n",
    "print(\"Missing Values:\")\n",
    "print(missing_values)\n"
   ]
  },
  {
   "cell_type": "code",
   "execution_count": 15,
   "id": "ac1f2162-97f3-4f03-ab14-f90cede9f8b5",
   "metadata": {},
   "outputs": [],
   "source": [
    "# Impute missing values in 'ParkingSpaceID' with the mean\n",
    "parking_data['ParkingSpaceID'].fillna(parking_data['ParkingSpaceID'].mean(), inplace=True)\n",
    "\n",
    "# Impute missing values in 'OccupancyStatus' and 'VehicleType' with the most frequent value\n",
    "parking_data['OccupancyStatus'].fillna(parking_data['OccupancyStatus'].mode()[0], inplace=True)\n",
    "parking_data['VehicleType'].fillna(parking_data['VehicleType'].mode()[0], inplace=True)\n"
   ]
  },
  {
   "cell_type": "code",
   "execution_count": 18,
   "id": "ad1bd50c-1780-46ab-b0ac-68449e941d9c",
   "metadata": {},
   "outputs": [],
   "source": [
    "parking_data['Timestamp'] = pd.to_datetime(parking_data['Timestamp'], format='%d-%m-%Y')\n",
    "parking_data['Date'] = parking_data['Timestamp'].dt.date\n",
    "parking_data['Time'] = parking_data['Timestamp'].dt.time"
   ]
  },
  {
   "cell_type": "code",
   "execution_count": 19,
   "id": "ca26aa97-3438-4fab-a61a-4799895c3f30",
   "metadata": {},
   "outputs": [],
   "source": [
    "parking_data['DayOfWeek'] = parking_data['Timestamp'].dt.day_name()\n"
   ]
  },
  {
   "cell_type": "code",
   "execution_count": 21,
   "id": "39c430ab-1309-4fc3-94d1-c2ec407e446f",
   "metadata": {},
   "outputs": [
    {
     "name": "stdout",
     "output_type": "stream",
     "text": [
      "OccupancyStatus Distribution:\n",
      "OccupancyStatus\n",
      "Occupied    134\n",
      "Empty       122\n",
      "Reserved    109\n",
      "Name: count, dtype: int64\n"
     ]
    }
   ],
   "source": [
    "print(\"OccupancyStatus Distribution:\")\n",
    "print(parking_data['OccupancyStatus'].value_counts())\n"
   ]
  },
  {
   "cell_type": "code",
   "execution_count": null,
   "id": "39e70b94-4431-4a86-ab29-d0357ad2e377",
   "metadata": {},
   "outputs": [],
   "source": []
  }
 ],
 "metadata": {
  "kernelspec": {
   "display_name": "Python 3 (ipykernel)",
   "language": "python",
   "name": "python3"
  },
  "language_info": {
   "codemirror_mode": {
    "name": "ipython",
    "version": 3
   },
   "file_extension": ".py",
   "mimetype": "text/x-python",
   "name": "python",
   "nbconvert_exporter": "python",
   "pygments_lexer": "ipython3",
   "version": "3.11.6"
  }
 },
 "nbformat": 4,
 "nbformat_minor": 5
}
