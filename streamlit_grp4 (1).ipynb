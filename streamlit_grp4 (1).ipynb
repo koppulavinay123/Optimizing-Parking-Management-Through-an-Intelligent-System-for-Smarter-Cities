{
  "nbformat": 4,
  "nbformat_minor": 0,
  "metadata": {
    "colab": {
      "provenance": []
    },
    "kernelspec": {
      "name": "python3",
      "display_name": "Python 3"
    },
    "language_info": {
      "name": "python"
    }
  },
  "cells": [
    {
      "cell_type": "code",
      "source": [
        "!pip install streamlit -q"
      ],
      "metadata": {
        "colab": {
          "base_uri": "https://localhost:8080/"
        },
        "id": "Qe8N2uWwynVd",
        "outputId": "670c480a-de9a-409d-9cf2-0d4629c0fc8b"
      },
      "execution_count": null,
      "outputs": [
        {
          "output_type": "stream",
          "name": "stdout",
          "text": [
            "\u001b[2K     \u001b[90m━━━━━━━━━━━━━━━━━━━━━━━━━━━━━━━━━━━━━━━━\u001b[0m \u001b[32m8.4/8.4 MB\u001b[0m \u001b[31m14.3 MB/s\u001b[0m eta \u001b[36m0:00:00\u001b[0m\n",
            "\u001b[2K     \u001b[90m━━━━━━━━━━━━━━━━━━━━━━━━━━━━━━━━━━━━━━━━\u001b[0m \u001b[32m196.4/196.4 kB\u001b[0m \u001b[31m11.4 MB/s\u001b[0m eta \u001b[36m0:00:00\u001b[0m\n",
            "\u001b[2K     \u001b[90m━━━━━━━━━━━━━━━━━━━━━━━━━━━━━━━━━━━━━━━━\u001b[0m \u001b[32m4.8/4.8 MB\u001b[0m \u001b[31m30.5 MB/s\u001b[0m eta \u001b[36m0:00:00\u001b[0m\n",
            "\u001b[2K     \u001b[90m━━━━━━━━━━━━━━━━━━━━━━━━━━━━━━━━━━━━━━━━\u001b[0m \u001b[32m82.1/82.1 kB\u001b[0m \u001b[31m4.4 MB/s\u001b[0m eta \u001b[36m0:00:00\u001b[0m\n",
            "\u001b[2K     \u001b[90m━━━━━━━━━━━━━━━━━━━━━━━━━━━━━━━━━━━━━━━━\u001b[0m \u001b[32m62.7/62.7 kB\u001b[0m \u001b[31m4.7 MB/s\u001b[0m eta \u001b[36m0:00:00\u001b[0m\n",
            "\u001b[?25h"
          ]
        }
      ]
    },
    {
      "cell_type": "code",
      "execution_count": 105,
      "metadata": {
        "colab": {
          "base_uri": "https://localhost:8080/"
        },
        "id": "gfhCDAT7x7Yu",
        "outputId": "a10233a7-d377-42b0-9e71-ecb5c6a53a82"
      },
      "outputs": [
        {
          "output_type": "stream",
          "name": "stdout",
          "text": [
            "Overwriting app.py\n"
          ]
        }
      ],
      "source": [
        "%%writefile app.py\n",
        "\n",
        "import streamlit as st\n",
        "import pandas as pd\n",
        "import matplotlib.pyplot as plt\n",
        "from statsmodels.tsa.statespace.sarimax import SARIMAX\n",
        "from sklearn.model_selection import train_test_split\n",
        "from sklearn.preprocessing import LabelEncoder\n",
        "\n",
        "parking_dataset=pd.read_csv('parking_dataset.csv')\n",
        "parking_dataset['Timestamp'] = pd.to_datetime(parking_dataset['Timestamp'], format='%d-%m-%Y')\n",
        "\n",
        "# Preprocessing\n",
        "parking_dataset['ParkingSpaceID'].fillna(parking_dataset['ParkingSpaceID'].mean(), inplace=True)\n",
        "parking_dataset['OccupancyStatus'].fillna(parking_dataset['OccupancyStatus'].mode()[0], inplace=True)\n",
        "parking_dataset['VehicleType'].fillna(parking_dataset['VehicleType'].mode()[0], inplace=True)\n",
        "\n",
        "# Encode categorical variables\n",
        "label_encoder = LabelEncoder()\n",
        "parking_dataset['VehicleType'] = label_encoder.fit_transform(parking_dataset['VehicleType'])\n",
        "parking_dataset['OccupancyStatus'] = label_encoder.fit_transform(parking_dataset['OccupancyStatus'])\n",
        "\n",
        "# SARIMA modeling\n",
        "order = (1, 1, 1)\n",
        "seasonal_order = (1, 1, 1, 7)\n",
        "sarima_model = SARIMAX(parking_dataset['OccupancyStatus'], order=order, seasonal_order=seasonal_order)\n",
        "results = sarima_model.fit(disp=False)\n",
        "\n",
        "# Streamlit App\n",
        "st.title(\"Smart Parking System SARIMA Model\")\n",
        "st.subheader('Data:')\n",
        "st.write(parking_dataset)\n",
        "\n",
        "# User Input for Predicting Parking Status\n",
        "st.sidebar.header(\"Predict Parking Status:\")\n",
        "parking_space_id_input = st.sidebar.number_input(\"Enter Parking Space ID:\", format=\"%d\")\n",
        "prediction_button = st.sidebar.button(\"Predict\")\n",
        "\n",
        "# Predict and Display Result\n",
        "if prediction_button:\n",
        "    user_input_df = pd.DataFrame({'ParkingSpaceID': [parking_space_id_input]})\n",
        "    prediction = int(results.predict(start=len(parking_dataset), end=len(parking_dataset) + 1, dynamic=False).iloc[0])\n",
        "    prediction_label = label_encoder.inverse_transform([prediction])[0]\n",
        "    st.sidebar.subheader(\"Prediction:\")\n",
        "    st.sidebar.write(f\"Parking Space {parking_space_id_input} is {prediction_label}\")\n",
        "\n",
        "\n",
        "    # Plot SARIMA Forecast\n",
        "    st.subheader(\"SARIMA Model Forecast:\")\n",
        "    forecast_periods = 7\n",
        "    forecast_index = pd.date_range(start=parking_dataset['Timestamp'].iloc[-1] + pd.DateOffset(days=1), periods=forecast_periods, freq='D')\n",
        "\n",
        "    # Generate the forecast\n",
        "    forecast = results.get_forecast(steps=forecast_periods)\n",
        "    forecast_values = forecast.predicted_mean.values\n",
        "\n",
        "    # Plotting\n",
        "    fig, ax = plt.subplots()\n",
        "    ax.plot(parking_dataset['Timestamp'], parking_dataset['OccupancyStatus'], label='Observed Data')  # Plot observed data\n",
        "    ax.plot(forecast_index, forecast_values, 'g--', label='SARIMA Forecast')  # Plot SARIMA forecast\n",
        "    ax.legend()\n",
        "\n",
        "    # Display the plot in Streamlit\n",
        "    st.pyplot(fig)\n",
        "\n"
      ]
    },
    {
      "cell_type": "code",
      "source": [
        "!wget -q -O - ipv4.icanhazip.com"
      ],
      "metadata": {
        "colab": {
          "base_uri": "https://localhost:8080/"
        },
        "id": "uhCwkOHKyuCO",
        "outputId": "29c11e71-88fe-4164-9f12-05064f6b9c3b"
      },
      "execution_count": 106,
      "outputs": [
        {
          "output_type": "stream",
          "name": "stdout",
          "text": [
            "35.229.19.170\n"
          ]
        }
      ]
    },
    {
      "cell_type": "code",
      "source": [
        "!streamlit run app.py & npx localtunnel --port 8501"
      ],
      "metadata": {
        "colab": {
          "base_uri": "https://localhost:8080/"
        },
        "id": "CNcIqMAVywI6",
        "outputId": "479852fd-da13-418e-dff6-3c8d81150b30"
      },
      "execution_count": 107,
      "outputs": [
        {
          "output_type": "stream",
          "name": "stdout",
          "text": [
            "[##................] / fetchMetadata: sill resolveWithNewModule ms@2.1.2 checki\u001b[0m\u001b[K\n",
            "Collecting usage statistics. To deactivate, set browser.gatherUsageStats to False.\n",
            "\u001b[0m\n",
            "\u001b[0m\n",
            "\u001b[34m\u001b[1m  You can now view your Streamlit app in your browser.\u001b[0m\n",
            "\u001b[0m\n",
            "\u001b[34m  Network URL: \u001b[0m\u001b[1mhttp://172.28.0.12:8501\u001b[0m\n",
            "\u001b[34m  External URL: \u001b[0m\u001b[1mhttp://35.229.19.170:8501\u001b[0m\n",
            "\u001b[0m\n",
            "\u001b[K\u001b[?25hnpx: installed 22 in 2.539s\n",
            "your url is: https://two-rings-wish.loca.lt\n",
            "\u001b[34m  Stopping...\u001b[0m\n",
            "^C\n"
          ]
        }
      ]
    },
    {
      "cell_type": "code",
      "source": [],
      "metadata": {
        "id": "phNwyWrhywcg"
      },
      "execution_count": null,
      "outputs": []
    }
  ]
}