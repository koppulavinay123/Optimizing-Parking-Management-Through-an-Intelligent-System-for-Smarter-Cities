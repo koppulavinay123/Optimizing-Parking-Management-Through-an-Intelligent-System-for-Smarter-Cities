{
  "nbformat": 4,
  "nbformat_minor": 0,
  "metadata": {
    "colab": {
      "provenance": []
    },
    "kernelspec": {
      "name": "python3",
      "display_name": "Python 3"
    },
    "language_info": {
      "name": "python"
    }
  },
  "cells": [
    {
      "cell_type": "code",
      "source": [
        "pip install faker"
      ],
      "metadata": {
        "colab": {
          "base_uri": "https://localhost:8080/"
        },
        "id": "psPi2neS8hLg",
        "outputId": "7bcfffc2-151d-47c6-a062-8b03d9c46111"
      },
      "execution_count": 4,
      "outputs": [
        {
          "output_type": "stream",
          "name": "stdout",
          "text": [
            "Collecting faker\n",
            "  Downloading Faker-21.0.0-py3-none-any.whl (1.7 MB)\n",
            "\u001b[2K     \u001b[90m━━━━━━━━━━━━━━━━━━━━━━━━━━━━━━━━━━━━━━━━\u001b[0m \u001b[32m1.7/1.7 MB\u001b[0m \u001b[31m8.5 MB/s\u001b[0m eta \u001b[36m0:00:00\u001b[0m\n",
            "\u001b[?25hRequirement already satisfied: python-dateutil>=2.4 in /usr/local/lib/python3.10/dist-packages (from faker) (2.8.2)\n",
            "Requirement already satisfied: six>=1.5 in /usr/local/lib/python3.10/dist-packages (from python-dateutil>=2.4->faker) (1.16.0)\n",
            "Installing collected packages: faker\n",
            "Successfully installed faker-21.0.0\n"
          ]
        }
      ]
    },
    {
      "cell_type": "code",
      "execution_count": 12,
      "metadata": {
        "colab": {
          "base_uri": "https://localhost:8080/"
        },
        "id": "dHLRejBP68Mu",
        "outputId": "19c34ed5-017e-434b-db02-327517e03622"
      },
      "outputs": [
        {
          "output_type": "stream",
          "name": "stdout",
          "text": [
            "    Timestamp  ParkingSpaceID OccupancyStatus VehicleType\n",
            "0  2023-05-03              82           Empty  Motorcycle\n",
            "1  2023-03-12              19           Empty     Bicycle\n",
            "2  2023-03-31              19           Empty  Motorcycle\n",
            "3  2023-01-08              72        Occupied  Motorcycle\n",
            "4  2023-05-27              77        Occupied     Bicycle\n"
          ]
        }
      ],
      "source": [
        "import pandas as pd\n",
        "from faker import Faker\n",
        "import random\n",
        "from datetime import datetime, timedelta\n",
        "\n",
        "# Set up Faker\n",
        "fake = Faker()\n",
        "\n",
        "# Generate 500 records\n",
        "num_records = 500\n",
        "dates = [fake.date_this_year() for _ in range(num_records)]\n",
        "space_ids = [random.randint(1, 100) for _ in range(num_records)]\n",
        "occupancy_statuses = [random.choice(['Empty', 'Reserved', 'Occupied']) for _ in range(num_records)]\n",
        "vehicle_types = [random.choice(['Motorcycle', 'Car','Bicycle']) for _ in range(num_records)]\n",
        "\n",
        "# Creating the dataset\n",
        "data = {\n",
        "    'Timestamp': dates,\n",
        "    'ParkingSpaceID': space_ids,\n",
        "    'OccupancyStatus': occupancy_statuses,\n",
        "    'VehicleType': vehicle_types\n",
        "}\n",
        "\n",
        "# Creating a DataFrame\n",
        "parking_dataset = pd.DataFrame(data)\n",
        "\n",
        "parking_dataset.to_csv('smart_parking.csv',index=False)\n",
        "\n",
        "# Displaying the first few records of the dataset\n",
        "print(parking_dataset.head())"
      ]
    },
    {
      "cell_type": "code",
      "source": [],
      "metadata": {
        "id": "NyQWhiSl6-pE"
      },
      "execution_count": null,
      "outputs": []
    }
  ]
}